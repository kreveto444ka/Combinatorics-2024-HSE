{
  "nbformat": 4,
  "nbformat_minor": 0,
  "metadata": {
    "colab": {
      "provenance": []
    },
    "kernelspec": {
      "name": "python3",
      "display_name": "Python 3"
    },
    "language_info": {
      "name": "python"
    }
  },
  "cells": [
    {
      "cell_type": "markdown",
      "source": [
        "# HW 4 - Combinatorics\n",
        "\n",
        "### Please, fill in before you start:\n",
        "\n",
        "First Name: Julia\n",
        "\n",
        "Last Name: Mikhailova\n",
        "\n",
        "Group: 218"
      ],
      "metadata": {
        "id": "0yucI58Dghvo"
      }
    },
    {
      "cell_type": "markdown",
      "source": [
        "Another decomposition fractions:\n",
        "\n",
        "$$\n",
        "f(x) = \\frac{1}{2x^3-10x^2-30x+54}\n",
        "$$\n",
        "\n",
        "with **SymPy** find reals $a, b, c, \\alpha, \\beta, \\gamma$ such that\n",
        "\n",
        "$$\n",
        "f(x) = \\frac{a}{x-\\alpha} + \\frac{b}{x-\\beta}+\\frac{c}{x-\\gamma}\n",
        "$$"
      ],
      "metadata": {
        "id": "jC5lyO04hC_c"
      }
    },
    {
      "cell_type": "code",
      "source": [
        "from sympy import symbols, solve, Eq, apart\n",
        "\n",
        "x = symbols('x')\n",
        "a, b, c, alpha, beta, gamma = symbols('a b c alpha beta gamma', real=True)\n",
        "\n",
        "f = 1 / (2*x**3 - 10*x**2 - 30*x + 54)\n",
        "\n",
        "decomposed = apart(f)\n",
        "\n",
        "denominator = 1 / f\n",
        "roots = solve(denominator, x)\n",
        "\n",
        "print(roots)\n",
        "\n",
        "alpha, beta, gamma = roots\n",
        "\n",
        "equation = Eq(decomposed, a/(x - alpha) + b/(x - beta) + c/(x - gamma))\n",
        "coefficients = solve(equation, (a, b, c))\n",
        "\n",
        "\n",
        "entire_solution = {\n",
        "    'a': coefficients[a],\n",
        "    'b': coefficients[b],\n",
        "    'c': coefficients[c],\n",
        "    'alpha': alpha,\n",
        "    'beta': beta,\n",
        "    'gamma': gamma\n",
        "}\n",
        "\n",
        "entire_solution"
      ],
      "metadata": {
        "colab": {
          "base_uri": "https://localhost:8080/"
        },
        "id": "WTNSFJ9Dghjz",
        "outputId": "964c3c52-d931-45f8-bb61-a9c4f0b40d9a"
      },
      "execution_count": 4,
      "outputs": [
        {
          "output_type": "stream",
          "name": "stdout",
          "text": [
            "[-3, 4 - sqrt(7), sqrt(7) + 4]\n"
          ]
        },
        {
          "output_type": "execute_result",
          "data": {
            "text/plain": [
              "{'a': 1/84,\n",
              " 'b': -sqrt(7)/168 - 1/168,\n",
              " 'c': -1/168 + sqrt(7)/168,\n",
              " 'alpha': -3,\n",
              " 'beta': 4 - sqrt(7),\n",
              " 'gamma': sqrt(7) + 4}"
            ]
          },
          "metadata": {},
          "execution_count": 4
        }
      ]
    },
    {
      "cell_type": "code",
      "execution_count": null,
      "metadata": {
        "id": "TdlzXr6-ggis"
      },
      "outputs": [],
      "source": []
    }
  ]
}