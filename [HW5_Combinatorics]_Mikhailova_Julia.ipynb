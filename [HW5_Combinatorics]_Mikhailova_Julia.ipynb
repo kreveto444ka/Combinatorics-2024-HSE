{
  "nbformat": 4,
  "nbformat_minor": 0,
  "metadata": {
    "colab": {
      "provenance": []
    },
    "kernelspec": {
      "name": "python3",
      "display_name": "Python 3"
    },
    "language_info": {
      "name": "python"
    }
  },
  "cells": [
    {
      "cell_type": "markdown",
      "source": [
        "# HW 5 - Combinatorics\n",
        "\n",
        "### Please, fill in before you start:\n",
        "\n",
        "First Name: Julia\n",
        "\n",
        "Last Name: Mikhailova\n",
        "\n",
        "Group: 218"
      ],
      "metadata": {
        "id": "JBt6t5xVkO0E"
      }
    },
    {
      "cell_type": "code",
      "source": [
        "rgb = list('rgb')\n",
        "coloring = set()"
      ],
      "metadata": {
        "id": "zYjVo_UTRtgV"
      },
      "execution_count": 20,
      "outputs": []
    },
    {
      "cell_type": "code",
      "source": [
        "from sys import get_coroutine_origin_tracking_depth\n",
        "for a in rgb:\n",
        "    for b in rgb:\n",
        "        for c in rgb:\n",
        "            for d in rgb:\n",
        "                graph = a + b + c + d\n",
        "                graph = sorted(list(graph))\n",
        "                graph_str = ''.join(graph)\n",
        "                coloring.add(graph_str)\n",
        "print(coloring)"
      ],
      "metadata": {
        "colab": {
          "base_uri": "https://localhost:8080/"
        },
        "id": "hsPaP7cCSSCI",
        "outputId": "26abb8d5-f767-4da7-a437-c2c0665fa05e"
      },
      "execution_count": 22,
      "outputs": [
        {
          "output_type": "stream",
          "name": "stdout",
          "text": [
            "{'rrrr', 'bbgg', 'bbbg', 'brrr', 'grrr', 'bgrr', 'ggrr', 'bggr', 'bbrr', 'bbbr', 'bbbb', 'gggr', 'bbgr', 'gggg', 'bggg'}\n"
          ]
        }
      ]
    }
  ]
}