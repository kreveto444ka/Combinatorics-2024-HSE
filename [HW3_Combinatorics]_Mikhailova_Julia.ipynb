{
  "nbformat": 4,
  "nbformat_minor": 0,
  "metadata": {
    "colab": {
      "provenance": []
    },
    "kernelspec": {
      "name": "python3",
      "display_name": "Python 3"
    },
    "language_info": {
      "name": "python"
    }
  },
  "cells": [
    {
      "cell_type": "markdown",
      "source": [
        "# HW 3 - Combinatorics\n",
        "\n",
        "### Please, fill in before you start:\n",
        "\n",
        "First Name: Julia\n",
        "\n",
        "Last Name: Mikhailova\n",
        "\n",
        "Group: 218"
      ],
      "metadata": {
        "id": "JBt6t5xVkO0E"
      }
    },
    {
      "cell_type": "markdown",
      "source": [
        "Let's use the function from https://oeis.org/A000055. According to this,  the best answer for this task is\n",
        "$$\n",
        "A(x) = 1 + T(x) - T^2(x)/2 + T(x^2)/2\n",
        "$$\n",
        "where:\n",
        "$$\n",
        "T(x) = x + x^2 + 2x^3 + \\dots\n",
        "$$\n",
        "from https://oeis.org/A000081"
      ],
      "metadata": {
        "id": "0vCj5afIKeBz"
      }
    },
    {
      "cell_type": "code",
      "execution_count": null,
      "metadata": {
        "id": "jv1KC79XkOF8"
      },
      "outputs": [],
      "source": []
    }
  ]
}