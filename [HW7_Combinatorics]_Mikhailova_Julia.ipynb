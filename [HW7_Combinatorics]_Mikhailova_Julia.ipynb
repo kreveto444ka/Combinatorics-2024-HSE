{
  "nbformat": 4,
  "nbformat_minor": 0,
  "metadata": {
    "colab": {
      "provenance": []
    },
    "kernelspec": {
      "name": "python3",
      "display_name": "Python 3"
    },
    "language_info": {
      "name": "python"
    }
  },
  "cells": [
    {
      "cell_type": "markdown",
      "source": [
        "# HW 8 - Combinatorics\n",
        "\n",
        "### Please, fill in before you start:\n",
        "\n",
        "First Name: Julia\n",
        "\n",
        "Last Name: Mikhailova\n",
        "\n",
        "Group: 218"
      ],
      "metadata": {
        "id": "OFiX2mGQJsfs"
      }
    },
    {
      "cell_type": "markdown",
      "source": [
        "Let's prove it by mathematical induction. Let the hypothesis be true  for $a_1 — a_n$. Then\n",
        "\n",
        "$$\n",
        "a_{n+1} = 2 a_{n} + 3 a_{n-1} = 2 (c_1 (-1)^n + c_2 3^n) + 3 (c_1 (-1)^{n-1} + c_2 3^{n-1}) = c_1 (-1)^{n+1} + c_2 3^{n+1}\n",
        "$$\n",
        "\n",
        "That's what I needed to prove."
      ],
      "metadata": {
        "id": "3YTlBFqIK5WG"
      }
    }
  ]
}