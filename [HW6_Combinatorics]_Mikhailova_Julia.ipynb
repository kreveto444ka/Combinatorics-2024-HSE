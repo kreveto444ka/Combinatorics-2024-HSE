{
  "nbformat": 4,
  "nbformat_minor": 0,
  "metadata": {
    "colab": {
      "provenance": []
    },
    "kernelspec": {
      "name": "python3",
      "display_name": "Python 3"
    },
    "language_info": {
      "name": "python"
    }
  },
  "cells": [
    {
      "cell_type": "markdown",
      "source": [
        "# HW 6 - Combinatorics\n",
        "\n",
        "### Please, fill in before you start:\n",
        "\n",
        "First Name: Julia\n",
        "\n",
        "Last Name: Mikhailova\n",
        "\n",
        "Group: 218"
      ],
      "metadata": {
        "id": "JBt6t5xVkO0E"
      }
    },
    {
      "cell_type": "code",
      "source": [
        "import numpy as np"
      ],
      "metadata": {
        "id": "GM0OqtpuLeI1"
      },
      "execution_count": 1,
      "outputs": []
    },
    {
      "cell_type": "code",
      "source": [
        "ship_capacity = 200000\n",
        "weights = []\n",
        "n = 5\n",
        "for i in range(n):\n",
        "    weights.append(np.random.randint(2, 50))\n",
        "weights.sort()\n",
        "weights"
      ],
      "metadata": {
        "colab": {
          "base_uri": "https://localhost:8080/"
        },
        "id": "zYjVo_UTRtgV",
        "outputId": "00a0f314-fc3b-4411-f8a8-d7261ac4ea9f"
      },
      "execution_count": 7,
      "outputs": [
        {
          "output_type": "execute_result",
          "data": {
            "text/plain": [
              "[2, 6, 16, 35, 49]"
            ]
          },
          "metadata": {},
          "execution_count": 7
        }
      ]
    },
    {
      "cell_type": "code",
      "source": [
        "dp = [[0] * (ship_capacity + 1)] * (n + 1)\n",
        "dp[0][0] = 1"
      ],
      "metadata": {
        "id": "4zNjbf5sNEDM"
      },
      "execution_count": 10,
      "outputs": []
    },
    {
      "cell_type": "code",
      "source": [
        "for i in range(n):\n",
        "    dp[i + 1] = dp[i]\n",
        "    for j in range(weights[i], ship_capacity + 1):\n",
        "        dp[i + 1][j] = dp[i][j] + dp[i + 1][j - weights[i]]\n",
        "\n",
        "dp[-1][ship_capacity]"
      ],
      "metadata": {
        "colab": {
          "base_uri": "https://localhost:8080/"
        },
        "id": "hsPaP7cCSSCI",
        "outputId": "96ab8d37-08c9-45a0-ceb7-af704481e106"
      },
      "execution_count": 11,
      "outputs": [
        {
          "output_type": "execute_result",
          "data": {
            "text/plain": [
              "202680700745291"
            ]
          },
          "metadata": {},
          "execution_count": 11
        }
      ]
    }
  ]
}