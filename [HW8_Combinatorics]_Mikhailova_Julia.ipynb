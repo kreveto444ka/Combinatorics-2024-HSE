{
  "nbformat": 4,
  "nbformat_minor": 0,
  "metadata": {
    "colab": {
      "provenance": []
    },
    "kernelspec": {
      "name": "python3",
      "display_name": "Python 3"
    },
    "language_info": {
      "name": "python"
    }
  },
  "cells": [
    {
      "cell_type": "markdown",
      "source": [
        "# HW 8\n",
        "\n",
        "### Please, fill in before you start:\n",
        "\n",
        "First Name: Julia\n",
        "\n",
        "Last Name: Mikhailova\n",
        "\n",
        "Group: 218"
      ],
      "metadata": {
        "id": "M9Fr9qSsE6jC"
      }
    },
    {
      "cell_type": "markdown",
      "source": [
        "Functions:\n",
        "\n",
        "1. For e1: $(1 + x + x^2 + x^3 + \\ldots) = \\frac{1}{1 - x}$\n",
        "\n",
        "2. For e2: $(x^2 + x^3 + \\ldots) = \\frac{x^2}{1 - x}$\n",
        "\n",
        "3. For e3: $(1 + x + x^2 + x^3 + \\ldots x^{10})$\n",
        "\n",
        "4. For e4: $(x + x^2 + x^3 + \\ldots x^5)$\n"
      ],
      "metadata": {
        "id": "ac6rmCYiFCZh"
      }
    },
    {
      "cell_type": "code",
      "source": [
        "from sympy import symbols\n",
        "\n",
        "x = symbols('x')\n",
        "\n",
        "e1 = 1/(1-x)\n",
        "\n",
        "e2 = (x ** 2)/(1-x)\n",
        "\n",
        "e3 = 0\n",
        "for i in range(0, 11):\n",
        "    e3 += x ** i\n",
        "\n",
        "e4 = 0\n",
        "for i in range(1, 6):\n",
        "    e4 += x ** i\n",
        "\n",
        "e = [e1, e2, e3, e4]"
      ],
      "metadata": {
        "id": "w8Y-RuP-E6Vy"
      },
      "execution_count": 2,
      "outputs": []
    },
    {
      "cell_type": "code",
      "execution_count": 4,
      "metadata": {
        "colab": {
          "base_uri": "https://localhost:8080/"
        },
        "id": "UY-HFHrSEphu",
        "outputId": "5c399136-49a8-445d-887f-6cdf652904a5"
      },
      "outputs": [
        {
          "output_type": "stream",
          "name": "stdout",
          "text": [
            "e1: 1/(1 - x)\n",
            "e2: x**2/(1 - x)\n",
            "e3: x**10 + x**9 + x**8 + x**7 + x**6 + x**5 + x**4 + x**3 + x**2 + x + 1\n",
            "e4: x**5 + x**4 + x**3 + x**2 + x\n"
          ]
        }
      ],
      "source": [
        "for i in range(4):\n",
        "  print(f'e{i+1}:', e[i])"
      ]
    },
    {
      "cell_type": "code",
      "source": [
        "f = e1 * e2 * e3 * e4\n",
        "f"
      ],
      "metadata": {
        "colab": {
          "base_uri": "https://localhost:8080/",
          "height": 62
        },
        "id": "LPzlG5VTHFNy",
        "outputId": "6a163ecd-cd3b-48b7-93a4-28f062d052ac"
      },
      "execution_count": 6,
      "outputs": [
        {
          "output_type": "execute_result",
          "data": {
            "text/plain": [
              "x**2*(x**5 + x**4 + x**3 + x**2 + x)*(x**10 + x**9 + x**8 + x**7 + x**6 + x**5 + x**4 + x**3 + x**2 + x + 1)/(1 - x)**2"
            ],
            "text/latex": "$\\displaystyle \\frac{x^{2} \\left(x^{5} + x^{4} + x^{3} + x^{2} + x\\right) \\left(x^{10} + x^{9} + x^{8} + x^{7} + x^{6} + x^{5} + x^{4} + x^{3} + x^{2} + x + 1\\right)}{\\left(1 - x\\right)^{2}}$"
          },
          "metadata": {},
          "execution_count": 6
        }
      ]
    },
    {
      "cell_type": "code",
      "source": [
        "n = 31\n",
        "f_series = f.series(x, 0, n + 1)\n",
        "print(f\"f_{n} = {f_series.coeff(x, n)}\")"
      ],
      "metadata": {
        "colab": {
          "base_uri": "https://localhost:8080/"
        },
        "id": "6NCFpQWHHPz-",
        "outputId": "5386b162-150a-4f4b-baeb-5138c13e2e14"
      },
      "execution_count": 7,
      "outputs": [
        {
          "output_type": "stream",
          "name": "stdout",
          "text": [
            "f_31 = 1210\n"
          ]
        }
      ]
    }
  ]
}